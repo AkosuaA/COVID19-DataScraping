{
 "cells": [
  {
   "cell_type": "code",
   "execution_count": 33,
   "metadata": {},
   "outputs": [],
   "source": [
    "import urllib3\n",
    "import certifi\n",
    "import bs4\n",
    "import pandas as pd\n",
    "from datetime import datetime"
   ]
  },
  {
   "cell_type": "code",
   "execution_count": 31,
   "metadata": {},
   "outputs": [],
   "source": [
    "url = 'https://www.worldometers.info/coronavirus/'\n",
    "\n",
    "\n",
    "http = urllib3.PoolManager(cert_reqs='CERT_REQUIRED', ca_certs=certifi.where())\n",
    "response = http.request('GET', url)\n",
    "\n",
    "data = response.data.decode('utf-8')\n",
    "soup = bs4.BeautifulSoup(data)\n",
    "\n",
    "table_data = soup.find(id=\"main_table_countries_today\")\n",
    "\n",
    "for row in table_data.findAll('tr'):\n",
    "    for column in row.findAll('td'):\n",
    "        column.string = column.get_text().replace(',', '').replace('+','')\n",
    "\n",
    "current_data = pd.read_html(str(table_data))\n",
    "needed_columns = ['Country,Other', 'TotalCases', 'NewCases', 'TotalDeaths', 'NewDeaths']\n",
    "needed_data = current_data[0][needed_columns]\n",
    "needed_data[['TotalCases', 'NewCases', 'TotalDeaths', 'NewDeaths']] = needed_data[['TotalCases', 'NewCases', 'TotalDeaths', 'NewDeaths']].apply(pd.to_numeric)\n",
    "needed_data.fillna(0, inplace=True)"
   ]
  },
  {
   "cell_type": "code",
   "execution_count": 36,
   "metadata": {},
   "outputs": [],
   "source": [
    "needed_data.to_excel(\"./Data/WorldData.xlsx\", sheet_name = datetime.today().strftime('%Y-%m-%d'))  \n"
   ]
  },
  {
   "cell_type": "code",
   "execution_count": null,
   "metadata": {},
   "outputs": [],
   "source": []
  }
 ],
 "metadata": {
  "kernelspec": {
   "display_name": "Python 3",
   "language": "python",
   "name": "python3"
  },
  "language_info": {
   "codemirror_mode": {
    "name": "ipython",
    "version": 3
   },
   "file_extension": ".py",
   "mimetype": "text/x-python",
   "name": "python",
   "nbconvert_exporter": "python",
   "pygments_lexer": "ipython3",
   "version": "3.7.4"
  }
 },
 "nbformat": 4,
 "nbformat_minor": 2
}
